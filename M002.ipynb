{
 "cells": [
  {
   "cell_type": "markdown",
   "id": "adfc1091-1b22-4a8f-989b-b5cf1b53ef04",
   "metadata": {},
   "source": [
    "# Numpy\n",
    "\n",
    "Effiziente Verarbeitung von Zahlen in Python"
   ]
  },
  {
   "cell_type": "code",
   "execution_count": 2,
   "id": "30d7264c-63a4-429f-bcd3-7c233c69ce69",
   "metadata": {},
   "outputs": [],
   "source": [
    "import numpy as np"
   ]
  },
  {
   "cell_type": "markdown",
   "id": "0b6baa24-ab77-4163-8c5c-b7585c040757",
   "metadata": {},
   "source": [
    "## Array\n",
    "\n",
    "Grundstruktur für alle folgenden Themen\n",
    "\n",
    "Erstellen mit np.array([List])"
   ]
  },
  {
   "cell_type": "code",
   "execution_count": 3,
   "id": "7b71593c-2987-4f5f-9a38-73a385a21360",
   "metadata": {},
   "outputs": [
    {
     "data": {
      "text/plain": [
       "array([1, 2, 3, 4])"
      ]
     },
     "execution_count": 3,
     "metadata": {},
     "output_type": "execute_result"
    }
   ],
   "source": [
    "np.array([1, 2, 3, 4])"
   ]
  },
  {
   "cell_type": "code",
   "execution_count": 4,
   "id": "741c54db-1239-4f93-8e38-c4a4e42facdf",
   "metadata": {},
   "outputs": [],
   "source": [
    "a = np.array([1, 2, 3, 4])"
   ]
  },
  {
   "cell_type": "markdown",
   "id": "8ddcf87e-7cef-48a5-b8bc-ae04f54aa822",
   "metadata": {},
   "source": [
    "### Index"
   ]
  },
  {
   "cell_type": "code",
   "execution_count": 5,
   "id": "8214c201-791f-4bd7-af0a-018378b623c0",
   "metadata": {},
   "outputs": [
    {
     "data": {
      "text/plain": [
       "2"
      ]
     },
     "execution_count": 5,
     "metadata": {},
     "output_type": "execute_result"
    }
   ],
   "source": [
    "a[1]"
   ]
  },
  {
   "cell_type": "code",
   "execution_count": 7,
   "id": "18247b9e-4d0c-4534-86e5-3fb9393882e8",
   "metadata": {},
   "outputs": [
    {
     "data": {
      "text/plain": [
       "array([2, 3])"
      ]
     },
     "execution_count": 7,
     "metadata": {},
     "output_type": "execute_result"
    }
   ],
   "source": [
    "a[1:3]  # exklusiv der Obergrenze"
   ]
  },
  {
   "cell_type": "code",
   "execution_count": 8,
   "id": "225e9702-6fcb-4c81-897a-3df164fd242f",
   "metadata": {},
   "outputs": [
    {
     "data": {
      "text/plain": [
       "4"
      ]
     },
     "execution_count": 8,
     "metadata": {},
     "output_type": "execute_result"
    }
   ],
   "source": [
    "a[-1]"
   ]
  },
  {
   "cell_type": "markdown",
   "id": "ba1f3aac-db09-45a1-8eab-3d855de42e0b",
   "metadata": {},
   "source": [
    "### Datentypen"
   ]
  },
  {
   "cell_type": "code",
   "execution_count": 12,
   "id": "c2aa33ab-bf01-41e4-8bc7-0ee9426381c6",
   "metadata": {},
   "outputs": [
    {
     "data": {
      "text/plain": [
       "dtype('int32')"
      ]
     },
     "execution_count": 12,
     "metadata": {},
     "output_type": "execute_result"
    }
   ],
   "source": [
    "a.dtype  # int32: 4 Byte Integer"
   ]
  },
  {
   "cell_type": "code",
   "execution_count": 15,
   "id": "00938c3e-497d-43ff-9b81-e553bb0cdd05",
   "metadata": {},
   "outputs": [
    {
     "data": {
      "text/plain": [
       "2147483648"
      ]
     },
     "execution_count": 15,
     "metadata": {},
     "output_type": "execute_result"
    }
   ],
   "source": [
    "2 ** 31"
   ]
  },
  {
   "cell_type": "code",
   "execution_count": 16,
   "id": "7d73858e-21a1-4ca6-ad36-57286e246d20",
   "metadata": {},
   "outputs": [
    {
     "data": {
      "text/plain": [
       "-2147483648"
      ]
     },
     "execution_count": 16,
     "metadata": {},
     "output_type": "execute_result"
    }
   ],
   "source": [
    "-2 ** 31"
   ]
  },
  {
   "cell_type": "markdown",
   "id": "bb625551-9715-4391-aca6-9de81587d4e7",
   "metadata": {},
   "source": [
    "int32 kann Werte von -2^31 bis +2^31 enthalten\n",
    "\n",
    "-2147483648 bis 2147483648\n",
    "\n",
    "Wenn wir 1-4 verwenden, benötigen wir nicht so viel Platz"
   ]
  },
  {
   "cell_type": "markdown",
   "id": "5e3f6aeb-939d-42e9-af3f-9ca26c561b20",
   "metadata": {},
   "source": [
    "Alternativen: int64, int16, int8"
   ]
  },
  {
   "cell_type": "code",
   "execution_count": 19,
   "id": "2a3a096f-3b8c-4811-82ef-053229878d9c",
   "metadata": {},
   "outputs": [
    {
     "name": "stdout",
     "output_type": "stream",
     "text": [
      "-128\n",
      "128\n"
     ]
    }
   ],
   "source": [
    "print(-2 ** 7)\n",
    "print(2 ** 7)"
   ]
  },
  {
   "cell_type": "code",
   "execution_count": 20,
   "id": "d6ab2b24-e19b-44e7-ab1c-2bad88c3ac32",
   "metadata": {},
   "outputs": [],
   "source": [
    "b = np.array([1, 2, 3, 4], dtype=np.int8)"
   ]
  },
  {
   "cell_type": "code",
   "execution_count": 21,
   "id": "f2f928d3-f541-47bd-aa8b-2261179ab8e1",
   "metadata": {},
   "outputs": [
    {
     "data": {
      "text/plain": [
       "array([1, 2, 3, 4], dtype=int8)"
      ]
     },
     "execution_count": 21,
     "metadata": {},
     "output_type": "execute_result"
    }
   ],
   "source": [
    "b"
   ]
  },
  {
   "cell_type": "code",
   "execution_count": 22,
   "id": "8af2f8b2-745e-4e00-ad14-6889492a1852",
   "metadata": {},
   "outputs": [],
   "source": [
    "c = np.array([3.4, 1.2, 8.5, 5.4])"
   ]
  },
  {
   "cell_type": "code",
   "execution_count": 23,
   "id": "197803f5-fb19-4b67-9441-17ff39d09e81",
   "metadata": {},
   "outputs": [
    {
     "data": {
      "text/plain": [
       "array([3.4, 1.2, 8.5, 5.4])"
      ]
     },
     "execution_count": 23,
     "metadata": {},
     "output_type": "execute_result"
    }
   ],
   "source": [
    "c"
   ]
  },
  {
   "cell_type": "code",
   "execution_count": 26,
   "id": "bd3e089d-40ed-4ec8-bf24-0bdd6c7ef878",
   "metadata": {},
   "outputs": [
    {
     "data": {
      "text/plain": [
       "dtype('float64')"
      ]
     },
     "execution_count": 26,
     "metadata": {},
     "output_type": "execute_result"
    }
   ],
   "source": [
    "c.dtype"
   ]
  },
  {
   "cell_type": "markdown",
   "id": "567e5cb8-2a49-441e-9cde-ef11602ef427",
   "metadata": {},
   "source": [
    "Alternativen: float32, float16"
   ]
  },
  {
   "cell_type": "code",
   "execution_count": 27,
   "id": "248fb034-76f5-4b6c-bbf8-e43c6b32f5ca",
   "metadata": {},
   "outputs": [],
   "source": [
    "d = np.array([3.4, 1.2, 8.5, 5.4], dtype=np.float16)"
   ]
  },
  {
   "cell_type": "code",
   "execution_count": 28,
   "id": "69c3ad42-256d-4a09-85a4-d535bd63e742",
   "metadata": {},
   "outputs": [
    {
     "data": {
      "text/plain": [
       "array([3.4, 1.2, 8.5, 5.4], dtype=float16)"
      ]
     },
     "execution_count": 28,
     "metadata": {},
     "output_type": "execute_result"
    }
   ],
   "source": [
    "d"
   ]
  },
  {
   "cell_type": "markdown",
   "id": "5a1cd07d-54d2-4dd8-b847-639c2657de90",
   "metadata": {},
   "source": [
    "### Matrizen\n",
    "\n",
    "Daten werden generell in Tabellen dargestellt\n",
    "\n",
    "In Numpy können Tabellen mit einer Matrix dargestellt werden"
   ]
  },
  {
   "cell_type": "code",
   "execution_count": 30,
   "id": "4467d966-7891-4667-9b81-cab9b4eeb828",
   "metadata": {},
   "outputs": [],
   "source": [
    "e = np.array([\n",
    "    [1, 2, 3],\n",
    "    [4, 5, 6],\n",
    "    [7, 8, 9]\n",
    "])"
   ]
  },
  {
   "cell_type": "code",
   "execution_count": 32,
   "id": "b343f7e5-c709-4322-994f-069761dfac1b",
   "metadata": {},
   "outputs": [
    {
     "data": {
      "text/plain": [
       "array([[1, 2, 3],\n",
       "       [4, 5, 6],\n",
       "       [7, 8, 9]])"
      ]
     },
     "execution_count": 32,
     "metadata": {},
     "output_type": "execute_result"
    }
   ],
   "source": [
    "e  # Effektiv eine Liste von Listen"
   ]
  },
  {
   "cell_type": "code",
   "execution_count": 34,
   "id": "57d06f9c-5f53-43e3-8958-51a010389e08",
   "metadata": {},
   "outputs": [
    {
     "data": {
      "text/plain": [
       "9"
      ]
     },
     "execution_count": 34,
     "metadata": {},
     "output_type": "execute_result"
    }
   ],
   "source": [
    "e.size  # Gesamtanzahl der Elemente"
   ]
  },
  {
   "cell_type": "code",
   "execution_count": 38,
   "id": "e69fb7c1-0db8-4c6f-9f9b-de61a40b732f",
   "metadata": {},
   "outputs": [
    {
     "data": {
      "text/plain": [
       "2"
      ]
     },
     "execution_count": 38,
     "metadata": {},
     "output_type": "execute_result"
    }
   ],
   "source": [
    "e.ndim  # Anzahl der Dimensionen"
   ]
  },
  {
   "cell_type": "code",
   "execution_count": 39,
   "id": "04d8f8ad-cc28-4e67-b0ff-9af97bfed900",
   "metadata": {},
   "outputs": [
    {
     "data": {
      "text/plain": [
       "3"
      ]
     },
     "execution_count": 39,
     "metadata": {},
     "output_type": "execute_result"
    }
   ],
   "source": [
    "len(e)  # Anzahl der Zeilen"
   ]
  },
  {
   "cell_type": "code",
   "execution_count": 40,
   "id": "fcb2f465-14e4-4493-9eb0-38eeabd6d292",
   "metadata": {},
   "outputs": [
    {
     "data": {
      "text/plain": [
       "(3, 3)"
      ]
     },
     "execution_count": 40,
     "metadata": {},
     "output_type": "execute_result"
    }
   ],
   "source": [
    "e.shape"
   ]
  },
  {
   "cell_type": "markdown",
   "id": "7361348d-508c-4815-b249-8e3f4ed03eba",
   "metadata": {},
   "source": [
    "#### Matrix angreifen"
   ]
  },
  {
   "cell_type": "code",
   "execution_count": 41,
   "id": "ccf08fe6-c1c5-41b6-9846-4a0f44195303",
   "metadata": {},
   "outputs": [
    {
     "data": {
      "text/plain": [
       "array([1, 2, 3])"
      ]
     },
     "execution_count": 41,
     "metadata": {},
     "output_type": "execute_result"
    }
   ],
   "source": [
    "e[0]"
   ]
  },
  {
   "cell_type": "code",
   "execution_count": 42,
   "id": "dc89cc8b-0972-41ec-8f0f-25ae814a577e",
   "metadata": {},
   "outputs": [
    {
     "data": {
      "text/plain": [
       "2"
      ]
     },
     "execution_count": 42,
     "metadata": {},
     "output_type": "execute_result"
    }
   ],
   "source": [
    "e[0][1]"
   ]
  },
  {
   "cell_type": "code",
   "execution_count": 45,
   "id": "5c91d63d-a2f4-407c-803a-c8b004ba2e1e",
   "metadata": {},
   "outputs": [
    {
     "data": {
      "text/plain": [
       "2"
      ]
     },
     "execution_count": 45,
     "metadata": {},
     "output_type": "execute_result"
    }
   ],
   "source": [
    "e[0, 1]  # In Python nicht möglich"
   ]
  },
  {
   "cell_type": "code",
   "execution_count": 48,
   "id": "0ebc66bb-58de-4d07-a325-0a943005dce8",
   "metadata": {},
   "outputs": [
    {
     "data": {
      "text/plain": [
       "array([[1, 2, 3],\n",
       "       [4, 5, 6],\n",
       "       [7, 8, 9]])"
      ]
     },
     "execution_count": 48,
     "metadata": {},
     "output_type": "execute_result"
    }
   ],
   "source": [
    "e"
   ]
  },
  {
   "cell_type": "code",
   "execution_count": 49,
   "id": "a27b38f2-300a-4f88-b349-49c505faea73",
   "metadata": {},
   "outputs": [
    {
     "data": {
      "text/plain": [
       "array([2, 5, 8])"
      ]
     },
     "execution_count": 49,
     "metadata": {},
     "output_type": "execute_result"
    }
   ],
   "source": [
    "e[:, 1]  # Von der Matrix alle Zeilen nehmen (:), von allen Zeilen den Index 1 nehmen"
   ]
  },
  {
   "cell_type": "code",
   "execution_count": 54,
   "id": "4dbcaad2-9039-4129-8cd8-9a68cf1bf132",
   "metadata": {},
   "outputs": [
    {
     "data": {
      "text/plain": [
       "array([[5, 6],\n",
       "       [8, 9]])"
      ]
     },
     "execution_count": 54,
     "metadata": {},
     "output_type": "execute_result"
    }
   ],
   "source": [
    "# Aufgabe: Quadrat unten rechts nehmen (5, 6, 8, 9)\n",
    "e[1:3, 1:3]"
   ]
  },
  {
   "cell_type": "code",
   "execution_count": 55,
   "id": "b773a432-9786-405a-95dc-95140d3aa46b",
   "metadata": {},
   "outputs": [
    {
     "data": {
      "text/plain": [
       "array([[5, 6],\n",
       "       [8, 9]])"
      ]
     },
     "execution_count": 55,
     "metadata": {},
     "output_type": "execute_result"
    }
   ],
   "source": [
    "e[1:, 1:]"
   ]
  },
  {
   "cell_type": "code",
   "execution_count": 59,
   "id": "2403fbe9-667f-4e6c-b5da-55ec6798a6e6",
   "metadata": {},
   "outputs": [
    {
     "data": {
      "text/plain": [
       "array([[1, 2],\n",
       "       [4, 5],\n",
       "       [7, 8]])"
      ]
     },
     "execution_count": 59,
     "metadata": {},
     "output_type": "execute_result"
    }
   ],
   "source": [
    "# Aufgabe: Rechteck links nehmen (1, 2, 4, 5, 7, 8)\n",
    "e[:, :2]"
   ]
  },
  {
   "cell_type": "markdown",
   "id": "9d5463b1-cd43-4517-8509-2c6aac9e9d76",
   "metadata": {},
   "source": [
    "#### Neue Werte eintragen"
   ]
  },
  {
   "cell_type": "code",
   "execution_count": 60,
   "id": "5842e720-80eb-4a95-b6b7-072ea192dff2",
   "metadata": {},
   "outputs": [],
   "source": [
    "e[1, 1] = 100"
   ]
  },
  {
   "cell_type": "code",
   "execution_count": 61,
   "id": "fd4c701c-c895-42cd-b37e-8e16b53e243e",
   "metadata": {},
   "outputs": [
    {
     "data": {
      "text/plain": [
       "array([[  1,   2,   3],\n",
       "       [  4, 100,   6],\n",
       "       [  7,   8,   9]])"
      ]
     },
     "execution_count": 61,
     "metadata": {},
     "output_type": "execute_result"
    }
   ],
   "source": [
    "e"
   ]
  },
  {
   "cell_type": "code",
   "execution_count": 62,
   "id": "28e6d371-043a-41e2-b139-55f112454102",
   "metadata": {},
   "outputs": [],
   "source": [
    "e[:, 0] = 20"
   ]
  },
  {
   "cell_type": "code",
   "execution_count": 63,
   "id": "766dda41-f449-4f0b-b67f-0892018e286f",
   "metadata": {},
   "outputs": [
    {
     "data": {
      "text/plain": [
       "array([[ 20,   2,   3],\n",
       "       [ 20, 100,   6],\n",
       "       [ 20,   8,   9]])"
      ]
     },
     "execution_count": 63,
     "metadata": {},
     "output_type": "execute_result"
    }
   ],
   "source": [
    "e"
   ]
  },
  {
   "cell_type": "markdown",
   "id": "47dadeb6-bb7c-4966-bb9d-d39f1629b60a",
   "metadata": {},
   "source": [
    "### Einfache Analyse\n",
    "\n",
    "sum, mean, min, max, std, var"
   ]
  },
  {
   "cell_type": "code",
   "execution_count": 67,
   "id": "2e74a3ee-4b24-4973-9e3f-3ed9a36a8f58",
   "metadata": {},
   "outputs": [
    {
     "data": {
      "text/plain": [
       "188"
      ]
     },
     "execution_count": 67,
     "metadata": {},
     "output_type": "execute_result"
    }
   ],
   "source": [
    "e.sum()"
   ]
  },
  {
   "cell_type": "code",
   "execution_count": 68,
   "id": "0ad66586-5e61-4374-9a6f-9fde4f1d58b6",
   "metadata": {},
   "outputs": [
    {
     "data": {
      "text/plain": [
       "20.88888888888889"
      ]
     },
     "execution_count": 68,
     "metadata": {},
     "output_type": "execute_result"
    }
   ],
   "source": [
    "e.mean()"
   ]
  },
  {
   "cell_type": "code",
   "execution_count": 69,
   "id": "e0706d9b-25c6-4ef7-9398-599ff049c2c0",
   "metadata": {},
   "outputs": [
    {
     "data": {
      "text/plain": [
       "2"
      ]
     },
     "execution_count": 69,
     "metadata": {},
     "output_type": "execute_result"
    }
   ],
   "source": [
    "e.min()"
   ]
  },
  {
   "cell_type": "code",
   "execution_count": 70,
   "id": "f1ce27ae-6e1a-4195-877c-95bb2eaabadb",
   "metadata": {},
   "outputs": [
    {
     "data": {
      "text/plain": [
       "100"
      ]
     },
     "execution_count": 70,
     "metadata": {},
     "output_type": "execute_result"
    }
   ],
   "source": [
    "e.max()"
   ]
  },
  {
   "cell_type": "code",
   "execution_count": 71,
   "id": "bf608bc8-94c0-48a8-bcd5-4d5d9c40d608",
   "metadata": {},
   "outputs": [
    {
     "data": {
      "text/plain": [
       "28.80372061015129"
      ]
     },
     "execution_count": 71,
     "metadata": {},
     "output_type": "execute_result"
    }
   ],
   "source": [
    "e.std()"
   ]
  },
  {
   "cell_type": "code",
   "execution_count": 72,
   "id": "82e9d1ad-77a5-4469-b2e0-1ed1b145737a",
   "metadata": {},
   "outputs": [
    {
     "data": {
      "text/plain": [
       "829.6543209876544"
      ]
     },
     "execution_count": 72,
     "metadata": {},
     "output_type": "execute_result"
    }
   ],
   "source": [
    "e.var()"
   ]
  },
  {
   "cell_type": "code",
   "execution_count": 73,
   "id": "899e5340-3c2e-4a5d-a136-d5ce17d1008a",
   "metadata": {},
   "outputs": [
    {
     "data": {
      "text/plain": [
       "25"
      ]
     },
     "execution_count": 73,
     "metadata": {},
     "output_type": "execute_result"
    }
   ],
   "source": [
    "e[0].sum()"
   ]
  },
  {
   "cell_type": "code",
   "execution_count": 77,
   "id": "df6440c5-47d4-4ff8-809f-ad9d2d7ccd6e",
   "metadata": {},
   "outputs": [
    {
     "data": {
      "text/plain": [
       "array([ 60, 110,  18])"
      ]
     },
     "execution_count": 77,
     "metadata": {},
     "output_type": "execute_result"
    }
   ],
   "source": [
    "e.sum(axis=0)  # Mit Axis kann Zeilen-/Spaltenweise summiert werden"
   ]
  },
  {
   "cell_type": "code",
   "execution_count": 78,
   "id": "6feb7abf-29ed-475d-a46d-2af4f617bb99",
   "metadata": {},
   "outputs": [
    {
     "data": {
      "text/plain": [
       "array([ 25, 126,  37])"
      ]
     },
     "execution_count": 78,
     "metadata": {},
     "output_type": "execute_result"
    }
   ],
   "source": [
    "e.sum(axis=1)  # Waagrecht"
   ]
  },
  {
   "cell_type": "code",
   "execution_count": 82,
   "id": "b5441b05-0fdb-4cfd-af98-fc380fe7cd1f",
   "metadata": {},
   "outputs": [
    {
     "data": {
      "text/plain": [
       "array([20.        , 36.66666667,  6.        ])"
      ]
     },
     "execution_count": 82,
     "metadata": {},
     "output_type": "execute_result"
    }
   ],
   "source": [
    "e.mean(axis=0)  # Senkrecht"
   ]
  },
  {
   "cell_type": "code",
   "execution_count": 83,
   "id": "c12427f3-082a-4856-9389-d616a612ae22",
   "metadata": {},
   "outputs": [
    {
     "data": {
      "text/plain": [
       "array([[ 20,   2,   3],\n",
       "       [ 20, 100,   6],\n",
       "       [ 20,   8,   9]])"
      ]
     },
     "execution_count": 83,
     "metadata": {},
     "output_type": "execute_result"
    }
   ],
   "source": [
    "e"
   ]
  },
  {
   "cell_type": "markdown",
   "id": "f2e9ab57-15d2-4d8e-9622-21211569ec07",
   "metadata": {},
   "source": [
    "### Vektorisierung\n",
    "\n",
    "Eine Operation auf ein gesamtes Array anwenden"
   ]
  },
  {
   "cell_type": "code",
   "execution_count": 87,
   "id": "8a779b3d-790c-4917-aa0a-567a37441e44",
   "metadata": {},
   "outputs": [],
   "source": [
    "f = np.arange(10)  # np.arange(X): Array bis X erstellen"
   ]
  },
  {
   "cell_type": "code",
   "execution_count": 88,
   "id": "9e6d1a1e-adf5-486a-86b4-7bbf6360947d",
   "metadata": {},
   "outputs": [
    {
     "data": {
      "text/plain": [
       "array([0, 1, 2, 3, 4, 5, 6, 7, 8, 9])"
      ]
     },
     "execution_count": 88,
     "metadata": {},
     "output_type": "execute_result"
    }
   ],
   "source": [
    "f"
   ]
  },
  {
   "cell_type": "code",
   "execution_count": 90,
   "id": "aa470894-819c-46b9-b4ed-242a8178b61a",
   "metadata": {},
   "outputs": [
    {
     "data": {
      "text/plain": [
       "array([ 0,  1,  4,  9, 16, 25, 36, 49, 64, 81])"
      ]
     },
     "execution_count": 90,
     "metadata": {},
     "output_type": "execute_result"
    }
   ],
   "source": [
    "f ** 2  # Auf jedes Element X^2 anwenden"
   ]
  },
  {
   "cell_type": "code",
   "execution_count": 91,
   "id": "e76a4c84-21d6-40f4-be03-a0a9d427c582",
   "metadata": {},
   "outputs": [
    {
     "data": {
      "text/plain": [
       "array([ 5,  6,  7,  8,  9, 10, 11, 12, 13, 14])"
      ]
     },
     "execution_count": 91,
     "metadata": {},
     "output_type": "execute_result"
    }
   ],
   "source": [
    "f + 5"
   ]
  },
  {
   "cell_type": "code",
   "execution_count": 97,
   "id": "6d818f89-f4e8-4b03-af5b-47908ba66178",
   "metadata": {},
   "outputs": [
    {
     "data": {
      "text/plain": [
       "array([0, 1, 0, 1, 0, 1, 0, 1, 0, 1], dtype=int32)"
      ]
     },
     "execution_count": 97,
     "metadata": {},
     "output_type": "execute_result"
    }
   ],
   "source": [
    "f % 2"
   ]
  },
  {
   "cell_type": "code",
   "execution_count": 93,
   "id": "9a4a71d7-791f-4ccf-bae2-3620886ded0f",
   "metadata": {},
   "outputs": [],
   "source": [
    "g = np.arange(10)"
   ]
  },
  {
   "cell_type": "code",
   "execution_count": 98,
   "id": "883be00a-eb39-42b5-9ce2-f21ea1e4e5fd",
   "metadata": {},
   "outputs": [
    {
     "data": {
      "text/plain": [
       "array([ 0,  2,  4,  6,  8, 10, 12, 14, 16, 18])"
      ]
     },
     "execution_count": 98,
     "metadata": {},
     "output_type": "execute_result"
    }
   ],
   "source": [
    "f + g  # Hier wird jedes Array Element an der selben Stelle addiert"
   ]
  },
  {
   "cell_type": "markdown",
   "id": "63fdf62a-6b16-4a53-b867-ada65112077b",
   "metadata": {},
   "source": [
    "### Boolean Masken\n",
    "\n",
    "Sind das Ergebnis einer Vektorisierung mit einer Bedingung (<, >, ==, !=, ...)\n",
    "\n",
    "Wird in der Datenanalyse mit Python immer für eine Filterung benötigt"
   ]
  },
  {
   "cell_type": "code",
   "execution_count": 100,
   "id": "13e8b624-166f-40dc-8116-7cd1b159a9df",
   "metadata": {},
   "outputs": [],
   "source": [
    "h = np.arange(100)"
   ]
  },
  {
   "cell_type": "code",
   "execution_count": 101,
   "id": "92201257-6421-4359-9cde-12ae7f861d7b",
   "metadata": {},
   "outputs": [
    {
     "data": {
      "text/plain": [
       "array([ 0,  1,  2,  3,  4,  5,  6,  7,  8,  9, 10, 11, 12, 13, 14, 15, 16,\n",
       "       17, 18, 19, 20, 21, 22, 23, 24, 25, 26, 27, 28, 29, 30, 31, 32, 33,\n",
       "       34, 35, 36, 37, 38, 39, 40, 41, 42, 43, 44, 45, 46, 47, 48, 49, 50,\n",
       "       51, 52, 53, 54, 55, 56, 57, 58, 59, 60, 61, 62, 63, 64, 65, 66, 67,\n",
       "       68, 69, 70, 71, 72, 73, 74, 75, 76, 77, 78, 79, 80, 81, 82, 83, 84,\n",
       "       85, 86, 87, 88, 89, 90, 91, 92, 93, 94, 95, 96, 97, 98, 99])"
      ]
     },
     "execution_count": 101,
     "metadata": {},
     "output_type": "execute_result"
    }
   ],
   "source": [
    "h"
   ]
  },
  {
   "cell_type": "code",
   "execution_count": 103,
   "id": "3a47664a-32c7-48d9-b69f-8a17743b5550",
   "metadata": {},
   "outputs": [
    {
     "data": {
      "text/plain": [
       "array([ True, False, False, False, False,  True, False, False, False,\n",
       "       False,  True, False, False, False, False,  True, False, False,\n",
       "       False, False,  True, False, False, False, False,  True, False,\n",
       "       False, False, False,  True, False, False, False, False,  True,\n",
       "       False, False, False, False,  True, False, False, False, False,\n",
       "        True, False, False, False, False,  True, False, False, False,\n",
       "       False,  True, False, False, False, False,  True, False, False,\n",
       "       False, False,  True, False, False, False, False,  True, False,\n",
       "       False, False, False,  True, False, False, False, False,  True,\n",
       "       False, False, False, False,  True, False, False, False, False,\n",
       "        True, False, False, False, False,  True, False, False, False,\n",
       "       False])"
      ]
     },
     "execution_count": 103,
     "metadata": {},
     "output_type": "execute_result"
    }
   ],
   "source": [
    "h % 5 == 0  # Ergebnis: Array voller True/False"
   ]
  },
  {
   "cell_type": "markdown",
   "id": "5c263541-86ae-4da8-b535-b9fd378b6322",
   "metadata": {},
   "source": [
    "Dieses Array kann jetzt auf das originale Array angewandt werden, um nur die Elemente zu bekommen, an welcher Stelle in der Boolean Maske True steht"
   ]
  },
  {
   "cell_type": "code",
   "execution_count": 104,
   "id": "f2d8970c-b424-40a3-a716-9e581de7968b",
   "metadata": {},
   "outputs": [],
   "source": [
    "z = h % 5 == 0"
   ]
  },
  {
   "cell_type": "code",
   "execution_count": 106,
   "id": "4fdb5d96-53ad-445e-9ecd-d152e1d829b0",
   "metadata": {},
   "outputs": [
    {
     "data": {
      "text/plain": [
       "array([ 0,  5, 10, 15, 20, 25, 30, 35, 40, 45, 50, 55, 60, 65, 70, 75, 80,\n",
       "       85, 90, 95])"
      ]
     },
     "execution_count": 106,
     "metadata": {},
     "output_type": "execute_result"
    }
   ],
   "source": [
    "h[z]"
   ]
  },
  {
   "cell_type": "code",
   "execution_count": 109,
   "id": "94eb0434-13d0-4e12-9398-2c23e74a021a",
   "metadata": {},
   "outputs": [
    {
     "data": {
      "text/plain": [
       "array([ 0,  5, 10, 15, 20, 25, 30, 35, 40, 45, 50, 55, 60, 65, 70, 75, 80,\n",
       "       85, 90, 95])"
      ]
     },
     "execution_count": 109,
     "metadata": {},
     "output_type": "execute_result"
    }
   ],
   "source": [
    "h[h % 5 == 0]  # Ohne Zwischenvariable"
   ]
  },
  {
   "cell_type": "code",
   "execution_count": 113,
   "id": "2c5597df-3ac0-4364-8089-361e30a8a49f",
   "metadata": {},
   "outputs": [],
   "source": [
    "i = np.random.randint(100, size=(100))"
   ]
  },
  {
   "cell_type": "code",
   "execution_count": 114,
   "id": "f697d033-d512-49bf-b7ac-7b8072c085f5",
   "metadata": {},
   "outputs": [
    {
     "data": {
      "text/plain": [
       "array([52, 55, 98, 64, 51,  4, 82, 11, 85, 38, 85, 10, 34, 36, 10, 20, 71,\n",
       "       42, 41, 73, 54, 96, 95, 19, 53, 72, 99, 92, 78, 50, 93, 10,  0, 17,\n",
       "       97, 91, 24,  7, 48, 69, 50, 10, 76, 62, 21, 79, 93, 10, 83, 20, 39,\n",
       "       23, 13, 21, 67, 80, 18, 71, 34,  6, 51, 54, 63, 65, 98, 48, 12, 48,\n",
       "       19,  2, 50, 69, 60, 32, 12, 69, 90, 73,  0, 94, 46, 25, 77, 77, 14,\n",
       "       73, 82, 64, 14, 81, 36, 31, 30, 13,  8, 59, 71, 18, 60, 48])"
      ]
     },
     "execution_count": 114,
     "metadata": {},
     "output_type": "execute_result"
    }
   ],
   "source": [
    "i"
   ]
  },
  {
   "cell_type": "code",
   "execution_count": 116,
   "id": "042fd245-d15b-4823-b5a9-87937f3e36e8",
   "metadata": {},
   "outputs": [
    {
     "data": {
      "text/plain": [
       "array([52, 55, 98, 64, 51, 82, 85, 85, 71, 73, 54, 96, 95, 53, 72, 99, 92,\n",
       "       78, 93, 97, 91, 69, 76, 62, 79, 93, 83, 67, 80, 71, 51, 54, 63, 65,\n",
       "       98, 69, 60, 69, 90, 73, 94, 77, 77, 73, 82, 64, 81, 59, 71, 60])"
      ]
     },
     "execution_count": 116,
     "metadata": {},
     "output_type": "execute_result"
    }
   ],
   "source": [
    "# Aufgabe: Alle Zahlen finden, welche größer als 50 sind\n",
    "i[i > 50]"
   ]
  },
  {
   "cell_type": "code",
   "execution_count": 117,
   "id": "b14ad4f7-d1eb-499a-ac0c-cc273fb96f0e",
   "metadata": {},
   "outputs": [],
   "source": [
    "j = np.random.randint(100, size=(10, 10))"
   ]
  },
  {
   "cell_type": "code",
   "execution_count": 118,
   "id": "33beb74b-c81b-420b-90f3-9e4a4b406ad1",
   "metadata": {},
   "outputs": [
    {
     "data": {
      "text/plain": [
       "array([[36, 38,  1, 49, 73, 46, 38,  6, 15, 34],\n",
       "       [20, 49, 62, 82, 17,  9, 88, 61, 24, 12],\n",
       "       [77, 48, 60, 96, 12, 34, 28, 21, 53, 63],\n",
       "       [72, 96, 14, 86, 22, 46, 47, 95, 96, 26],\n",
       "       [ 9, 24, 89, 45, 88, 92, 54, 33, 58, 68],\n",
       "       [63, 88, 48, 34, 20,  0,  0, 24, 94, 70],\n",
       "       [74,  2, 25,  5, 52, 24, 28, 27, 46, 20],\n",
       "       [84,  0, 73, 46, 95, 19, 59, 38,  2, 72],\n",
       "       [51, 99, 27, 48, 70,  3, 17, 44, 25, 28],\n",
       "       [ 2, 77, 34, 85, 48, 87, 69,  2, 26, 48]])"
      ]
     },
     "execution_count": 118,
     "metadata": {},
     "output_type": "execute_result"
    }
   ],
   "source": [
    "j"
   ]
  },
  {
   "cell_type": "code",
   "execution_count": 120,
   "id": "d844fb2f-bd96-48c1-9ac7-67c9a17c42b6",
   "metadata": {},
   "outputs": [],
   "source": [
    "# Aufgabe: ALle Zeilen finden, welche überdurchschnittlich sind (über dem Gesamtdurchschnitt liegen)"
   ]
  },
  {
   "cell_type": "code",
   "execution_count": 137,
   "id": "1bfe9e62-4047-43a0-8cdb-ccd31ba5b2a6",
   "metadata": {},
   "outputs": [
    {
     "data": {
      "text/plain": [
       "45.34"
      ]
     },
     "execution_count": 137,
     "metadata": {},
     "output_type": "execute_result"
    }
   ],
   "source": [
    "j.mean()  # Alle Zahlen summiert / 100"
   ]
  },
  {
   "cell_type": "code",
   "execution_count": 138,
   "id": "ee4ce0c5-ea84-4615-be76-d7c7a281b642",
   "metadata": {},
   "outputs": [
    {
     "data": {
      "text/plain": [
       "array([33.6, 42.4, 49.2, 60. , 56. , 44.1, 30.3, 48.8, 41.2, 47.8])"
      ]
     },
     "execution_count": 138,
     "metadata": {},
     "output_type": "execute_result"
    }
   ],
   "source": [
    "j.mean(axis=1)  # Durchschnitt pro Zeile"
   ]
  },
  {
   "cell_type": "code",
   "execution_count": 143,
   "id": "dceb0b98-b4ec-49bb-b071-99cfe905124c",
   "metadata": {},
   "outputs": [
    {
     "data": {
      "text/plain": [
       "array([False, False,  True,  True,  True, False, False,  True, False,\n",
       "        True])"
      ]
     },
     "execution_count": 143,
     "metadata": {},
     "output_type": "execute_result"
    }
   ],
   "source": [
    "j.mean(axis=1) > j.mean()"
   ]
  },
  {
   "cell_type": "code",
   "execution_count": 144,
   "id": "f0c40fb9-1ba2-4eb0-a7f8-b5787a0278a0",
   "metadata": {},
   "outputs": [
    {
     "data": {
      "text/plain": [
       "array([[77, 48, 60, 96, 12, 34, 28, 21, 53, 63],\n",
       "       [72, 96, 14, 86, 22, 46, 47, 95, 96, 26],\n",
       "       [ 9, 24, 89, 45, 88, 92, 54, 33, 58, 68],\n",
       "       [84,  0, 73, 46, 95, 19, 59, 38,  2, 72],\n",
       "       [ 2, 77, 34, 85, 48, 87, 69,  2, 26, 48]])"
      ]
     },
     "execution_count": 144,
     "metadata": {},
     "output_type": "execute_result"
    }
   ],
   "source": [
    "j[j.mean(axis=1) > j.mean()]  # Von allen Zeilen nur diejenigen, die die Bedingung erfüllen + Alle Spalten"
   ]
  },
  {
   "cell_type": "code",
   "execution_count": 145,
   "id": "c95b9604-7b06-4cf8-9fe6-4f9df635ca58",
   "metadata": {},
   "outputs": [],
   "source": [
    "# Aufgabe: Alle überdurchschnittlichen Werte finden"
   ]
  },
  {
   "cell_type": "code",
   "execution_count": 146,
   "id": "a17cf8db-5028-49df-a991-75fc5452d703",
   "metadata": {},
   "outputs": [
    {
     "data": {
      "text/plain": [
       "45.34"
      ]
     },
     "execution_count": 146,
     "metadata": {},
     "output_type": "execute_result"
    }
   ],
   "source": [
    "j.mean()"
   ]
  },
  {
   "cell_type": "code",
   "execution_count": 147,
   "id": "f05c8348-2499-4deb-a61d-7f7934754bf0",
   "metadata": {},
   "outputs": [
    {
     "data": {
      "text/plain": [
       "array([49, 73, 46, 49, 62, 82, 88, 61, 77, 48, 60, 96, 53, 63, 72, 96, 86,\n",
       "       46, 47, 95, 96, 89, 88, 92, 54, 58, 68, 63, 88, 48, 94, 70, 74, 52,\n",
       "       46, 84, 73, 46, 95, 59, 72, 51, 99, 48, 70, 77, 85, 48, 87, 69, 48])"
      ]
     },
     "execution_count": 147,
     "metadata": {},
     "output_type": "execute_result"
    }
   ],
   "source": [
    "j[j > j.mean()]"
   ]
  },
  {
   "cell_type": "markdown",
   "id": "827e6102-844e-4601-9092-4d5f430603de",
   "metadata": {},
   "source": [
    "### Performance"
   ]
  },
  {
   "cell_type": "code",
   "execution_count": 149,
   "id": "7f95d7c5-f6d0-410a-b0c3-9fa19b4ca188",
   "metadata": {},
   "outputs": [],
   "source": [
    "p = [1, 2, 3, 4]  # Normale Python Liste"
   ]
  },
  {
   "cell_type": "code",
   "execution_count": 155,
   "id": "eff9c96f-afbf-4bfd-84e9-d58738a480d8",
   "metadata": {},
   "outputs": [
    {
     "data": {
      "text/plain": [
       "int"
      ]
     },
     "execution_count": 155,
     "metadata": {},
     "output_type": "execute_result"
    }
   ],
   "source": [
    "type(p[0])  # Wie groß ist der Python int?"
   ]
  },
  {
   "cell_type": "code",
   "execution_count": 156,
   "id": "c8d6784c-9d55-4a5c-a4fc-e9a9931d5cbe",
   "metadata": {},
   "outputs": [
    {
     "data": {
      "text/plain": [
       "28"
      ]
     },
     "execution_count": 156,
     "metadata": {},
     "output_type": "execute_result"
    }
   ],
   "source": [
    "import sys\n",
    "sys.getsizeof(p[0])"
   ]
  },
  {
   "cell_type": "code",
   "execution_count": 165,
   "id": "5e6fea1d-ac6d-4771-83a5-e766ab4f701a",
   "metadata": {},
   "outputs": [],
   "source": [
    "pn = np.arange(4, dtype=np.int8) + 1"
   ]
  },
  {
   "cell_type": "code",
   "execution_count": 166,
   "id": "c5b5ff0d-84f8-45e9-9c9e-b1a7e12c4e34",
   "metadata": {},
   "outputs": [
    {
     "data": {
      "text/plain": [
       "array([1, 2, 3, 4], dtype=int8)"
      ]
     },
     "execution_count": 166,
     "metadata": {},
     "output_type": "execute_result"
    }
   ],
   "source": [
    "pn"
   ]
  },
  {
   "cell_type": "code",
   "execution_count": 168,
   "id": "7502b16b-15be-4ab3-99df-ac902d56363e",
   "metadata": {},
   "outputs": [
    {
     "data": {
      "text/plain": [
       "dtype('int8')"
      ]
     },
     "execution_count": 168,
     "metadata": {},
     "output_type": "execute_result"
    }
   ],
   "source": [
    "pn.dtype  # 8 Bit = 1 Byte statt 28 Byte"
   ]
  },
  {
   "cell_type": "code",
   "execution_count": 180,
   "id": "70b60a64-7ffe-4aba-869a-b2b2ca89986a",
   "metadata": {},
   "outputs": [],
   "source": [
    "# 100M Ints in einer normalen Python Liste\n",
    "x = list(range(100_000_000))  # 2.8GB an Daten im RAM"
   ]
  },
  {
   "cell_type": "code",
   "execution_count": 181,
   "id": "dcb9695d-dc56-4f08-813f-341fe3e8cf47",
   "metadata": {},
   "outputs": [],
   "source": [
    "y = np.arange(100_000_000)  # 400MB an Daten im RAM"
   ]
  },
  {
   "cell_type": "code",
   "execution_count": 182,
   "id": "0e67737b-33ed-4515-b1ab-d59243e5bdfe",
   "metadata": {},
   "outputs": [
    {
     "name": "stdout",
     "output_type": "stream",
     "text": [
      "2.2062387466430664\n"
     ]
    }
   ],
   "source": [
    "import time\n",
    "start = time.time()\n",
    "sum(x)\n",
    "end = time.time()\n",
    "print(end - start)"
   ]
  },
  {
   "cell_type": "code",
   "execution_count": 183,
   "id": "38108c5e-7126-47ee-aad3-28dfb7ebdcd1",
   "metadata": {},
   "outputs": [
    {
     "name": "stdout",
     "output_type": "stream",
     "text": [
      "0.044989824295043945\n"
     ]
    }
   ],
   "source": [
    "import time\n",
    "start = time.time()\n",
    "y.sum()\n",
    "end = time.time()\n",
    "print(end - start)"
   ]
  },
  {
   "cell_type": "code",
   "execution_count": 184,
   "id": "36ee6817-1f31-4dca-83f8-9bdd9252b6a3",
   "metadata": {},
   "outputs": [],
   "source": [
    "del x\n",
    "del y"
   ]
  },
  {
   "cell_type": "markdown",
   "id": "2a3247be-9148-4d5b-b957-f61f62b73324",
   "metadata": {},
   "source": [
    "## Weitere Funktionen"
   ]
  },
  {
   "cell_type": "markdown",
   "id": "b5b5f945-da9e-4900-8248-86638f90bc1e",
   "metadata": {},
   "source": [
    "### Zufallszahlen erzeugen"
   ]
  },
  {
   "cell_type": "code",
   "execution_count": 186,
   "id": "d35d5b34-f1c9-4ea1-90f3-ad904afb1313",
   "metadata": {},
   "outputs": [
    {
     "data": {
      "text/plain": [
       "54"
      ]
     },
     "execution_count": 186,
     "metadata": {},
     "output_type": "execute_result"
    }
   ],
   "source": [
    "np.random.randint(100)  # Zufallszahl bis zu X"
   ]
  },
  {
   "cell_type": "code",
   "execution_count": 190,
   "id": "8a52b1cc-128e-4578-89dc-1d564d425a8c",
   "metadata": {},
   "outputs": [
    {
     "data": {
      "text/plain": [
       "array([[[12, 93, 28],\n",
       "        [26, 64, 55],\n",
       "        [29, 25, 70]],\n",
       "\n",
       "       [[13, 43, 63],\n",
       "        [37, 99, 44],\n",
       "        [44, 49, 41]],\n",
       "\n",
       "       [[42,  6, 94],\n",
       "        [22, 61, 83],\n",
       "        [77, 94, 15]]])"
      ]
     },
     "execution_count": 190,
     "metadata": {},
     "output_type": "execute_result"
    }
   ],
   "source": [
    "np.random.randint(100, size=(3, 3, 3))"
   ]
  },
  {
   "cell_type": "code",
   "execution_count": 193,
   "id": "911cab2e-e3a3-4c40-b4f4-44b356c9d7a7",
   "metadata": {},
   "outputs": [
    {
     "data": {
      "text/plain": [
       "0.5778907535608734"
      ]
     },
     "execution_count": 193,
     "metadata": {},
     "output_type": "execute_result"
    }
   ],
   "source": [
    "np.random.random()  # Zufallszahl zw. 0 und 1"
   ]
  },
  {
   "cell_type": "code",
   "execution_count": 198,
   "id": "34fbc641-861f-4e78-870c-8f76b3f9b4eb",
   "metadata": {},
   "outputs": [
    {
     "data": {
      "text/plain": [
       "array([[0.14234969, 0.88984029, 0.14715703, 0.28324255, 0.09193496],\n",
       "       [0.22931102, 0.77378598, 0.95904235, 0.91318522, 0.02223287],\n",
       "       [0.90364775, 0.84455932, 0.66198656, 0.24246244, 0.11734923],\n",
       "       [0.63903476, 0.60454085, 0.25072868, 0.77094456, 0.05225932],\n",
       "       [0.85462333, 0.52933012, 0.94579272, 0.92572851, 0.37951646]])"
      ]
     },
     "execution_count": 198,
     "metadata": {},
     "output_type": "execute_result"
    }
   ],
   "source": [
    "np.random.random(size=(5, 5))  # Array mit 25 zufälligen Elementen"
   ]
  },
  {
   "cell_type": "markdown",
   "id": "adad9c1c-2039-46e3-92f3-410eea00b074",
   "metadata": {},
   "source": [
    "### Dimensionen eines Arrays verändern"
   ]
  },
  {
   "cell_type": "code",
   "execution_count": 199,
   "id": "069a354f-e1c2-4d8c-b766-0ae1a50c3cc3",
   "metadata": {},
   "outputs": [
    {
     "data": {
      "text/plain": [
       "array([[8, 7, 3, 1, 3],\n",
       "       [4, 7, 4, 0, 4],\n",
       "       [2, 3, 0, 8, 9],\n",
       "       [2, 6, 8, 6, 4],\n",
       "       [5, 5, 5, 1, 8]])"
      ]
     },
     "execution_count": 199,
     "metadata": {},
     "output_type": "execute_result"
    }
   ],
   "source": [
    "np.random.randint(10, size=(5, 5))"
   ]
  },
  {
   "cell_type": "code",
   "execution_count": 200,
   "id": "bcefe203-be7e-4b00-aff5-dc66f708ec3b",
   "metadata": {},
   "outputs": [
    {
     "data": {
      "text/plain": [
       "array([0, 1, 2, 3, 4])"
      ]
     },
     "execution_count": 200,
     "metadata": {},
     "output_type": "execute_result"
    }
   ],
   "source": [
    "np.arange(5)"
   ]
  },
  {
   "cell_type": "code",
   "execution_count": 212,
   "id": "b786ccc1-8ff6-4730-ae13-fa4fca8634f8",
   "metadata": {},
   "outputs": [
    {
     "data": {
      "text/plain": [
       "array([[0],\n",
       "       [1],\n",
       "       [2],\n",
       "       [3],\n",
       "       [4]])"
      ]
     },
     "execution_count": 212,
     "metadata": {},
     "output_type": "execute_result"
    }
   ],
   "source": [
    "# 1D -> 2D\n",
    "# -1: Beliebige Anzahl an Zeilen\n",
    "# 1: Ein Element pro Zeile\n",
    "np.arange(5).reshape(-1, 1)"
   ]
  },
  {
   "cell_type": "code",
   "execution_count": 216,
   "id": "59778336-0886-469a-bf25-1b867fb489de",
   "metadata": {},
   "outputs": [
    {
     "data": {
      "text/plain": [
       "array([[0, 1],\n",
       "       [2, 3],\n",
       "       [4, 5],\n",
       "       [6, 7],\n",
       "       [8, 9]])"
      ]
     },
     "execution_count": 216,
     "metadata": {},
     "output_type": "execute_result"
    }
   ],
   "source": [
    "# Yx2 Array herstellen\n",
    "# -1: Beliebig viele Zeilen\n",
    "# 2: Zwei Elemente pro Zeile\n",
    "np.arange(10).reshape(-1, 2)"
   ]
  },
  {
   "cell_type": "code",
   "execution_count": 218,
   "id": "39c3b889-0023-42ad-8fae-c110788a2dfb",
   "metadata": {},
   "outputs": [
    {
     "data": {
      "text/plain": [
       "array([[0, 1, 2],\n",
       "       [3, 4, 5],\n",
       "       [6, 7, 8]])"
      ]
     },
     "execution_count": 218,
     "metadata": {},
     "output_type": "execute_result"
    }
   ],
   "source": [
    "np.arange(9).reshape(3, 3)"
   ]
  },
  {
   "cell_type": "code",
   "execution_count": 221,
   "id": "3a8cba3c-9e2b-4110-89af-a342bd9036e3",
   "metadata": {},
   "outputs": [],
   "source": [
    "# 2D -> 1D\n",
    "zweiD = np.random.randint(10, size=(5, 1))"
   ]
  },
  {
   "cell_type": "code",
   "execution_count": 222,
   "id": "b42cd3d6-c1f3-4f9f-858e-da3d690c92ac",
   "metadata": {},
   "outputs": [
    {
     "data": {
      "text/plain": [
       "array([[1],\n",
       "       [4],\n",
       "       [3],\n",
       "       [8],\n",
       "       [1]])"
      ]
     },
     "execution_count": 222,
     "metadata": {},
     "output_type": "execute_result"
    }
   ],
   "source": [
    "zweiD"
   ]
  },
  {
   "cell_type": "code",
   "execution_count": 226,
   "id": "33a236ff-3727-4111-a70d-5ce6d1df0850",
   "metadata": {},
   "outputs": [
    {
     "data": {
      "text/plain": [
       "array([1, 4, 3, 8, 1])"
      ]
     },
     "execution_count": 226,
     "metadata": {},
     "output_type": "execute_result"
    }
   ],
   "source": [
    "zweiD.reshape(-1, )  # -1, : Glätten (Alle Elemente aus dem 2D-Array eindimensional machen)"
   ]
  },
  {
   "cell_type": "markdown",
   "id": "a4419369-ca00-42fe-9462-dfcfc778a0ec",
   "metadata": {},
   "source": [
    "### linspace\n",
    "\n",
    "Array erzeugen von X bis Y mit Z Elementen\n",
    "\n",
    "-> Gleiche Abstände zw. den Z Elementen"
   ]
  },
  {
   "cell_type": "code",
   "execution_count": 228,
   "id": "b5d34db5-f5b9-481f-8ce6-ddc307435658",
   "metadata": {
    "collapsed": true,
    "jupyter": {
     "outputs_hidden": true
    }
   },
   "outputs": [
    {
     "data": {
      "text/plain": [
       "array([-30.        , -29.39393939, -28.78787879, -28.18181818,\n",
       "       -27.57575758, -26.96969697, -26.36363636, -25.75757576,\n",
       "       -25.15151515, -24.54545455, -23.93939394, -23.33333333,\n",
       "       -22.72727273, -22.12121212, -21.51515152, -20.90909091,\n",
       "       -20.3030303 , -19.6969697 , -19.09090909, -18.48484848,\n",
       "       -17.87878788, -17.27272727, -16.66666667, -16.06060606,\n",
       "       -15.45454545, -14.84848485, -14.24242424, -13.63636364,\n",
       "       -13.03030303, -12.42424242, -11.81818182, -11.21212121,\n",
       "       -10.60606061, -10.        ,  -9.39393939,  -8.78787879,\n",
       "        -8.18181818,  -7.57575758,  -6.96969697,  -6.36363636,\n",
       "        -5.75757576,  -5.15151515,  -4.54545455,  -3.93939394,\n",
       "        -3.33333333,  -2.72727273,  -2.12121212,  -1.51515152,\n",
       "        -0.90909091,  -0.3030303 ,   0.3030303 ,   0.90909091,\n",
       "         1.51515152,   2.12121212,   2.72727273,   3.33333333,\n",
       "         3.93939394,   4.54545455,   5.15151515,   5.75757576,\n",
       "         6.36363636,   6.96969697,   7.57575758,   8.18181818,\n",
       "         8.78787879,   9.39393939,  10.        ,  10.60606061,\n",
       "        11.21212121,  11.81818182,  12.42424242,  13.03030303,\n",
       "        13.63636364,  14.24242424,  14.84848485,  15.45454545,\n",
       "        16.06060606,  16.66666667,  17.27272727,  17.87878788,\n",
       "        18.48484848,  19.09090909,  19.6969697 ,  20.3030303 ,\n",
       "        20.90909091,  21.51515152,  22.12121212,  22.72727273,\n",
       "        23.33333333,  23.93939394,  24.54545455,  25.15151515,\n",
       "        25.75757576,  26.36363636,  26.96969697,  27.57575758,\n",
       "        28.18181818,  28.78787879,  29.39393939,  30.        ])"
      ]
     },
     "execution_count": 228,
     "metadata": {},
     "output_type": "execute_result"
    }
   ],
   "source": [
    "np.linspace(-30, 30, 100)  # Abstand: 0.60606060..."
   ]
  },
  {
   "cell_type": "code",
   "execution_count": 231,
   "id": "f6ee25b7-919e-4b87-8daa-cc0cb10afc9b",
   "metadata": {},
   "outputs": [
    {
     "data": {
      "text/plain": [
       "array([ 0. ,  0.1,  0.2,  0.3,  0.4,  0.5,  0.6,  0.7,  0.8,  0.9,  1. ,\n",
       "        1.1,  1.2,  1.3,  1.4,  1.5,  1.6,  1.7,  1.8,  1.9,  2. ,  2.1,\n",
       "        2.2,  2.3,  2.4,  2.5,  2.6,  2.7,  2.8,  2.9,  3. ,  3.1,  3.2,\n",
       "        3.3,  3.4,  3.5,  3.6,  3.7,  3.8,  3.9,  4. ,  4.1,  4.2,  4.3,\n",
       "        4.4,  4.5,  4.6,  4.7,  4.8,  4.9,  5. ,  5.1,  5.2,  5.3,  5.4,\n",
       "        5.5,  5.6,  5.7,  5.8,  5.9,  6. ,  6.1,  6.2,  6.3,  6.4,  6.5,\n",
       "        6.6,  6.7,  6.8,  6.9,  7. ,  7.1,  7.2,  7.3,  7.4,  7.5,  7.6,\n",
       "        7.7,  7.8,  7.9,  8. ,  8.1,  8.2,  8.3,  8.4,  8.5,  8.6,  8.7,\n",
       "        8.8,  8.9,  9. ,  9.1,  9.2,  9.3,  9.4,  9.5,  9.6,  9.7,  9.8,\n",
       "        9.9, 10. ])"
      ]
     },
     "execution_count": 231,
     "metadata": {},
     "output_type": "execute_result"
    }
   ],
   "source": [
    "np.linspace(0, 10, 101)  # Abstand: 0.1"
   ]
  },
  {
   "cell_type": "markdown",
   "id": "d8cec86e-1348-40d3-bc8e-620837015afc",
   "metadata": {},
   "source": [
    "### Ones/Zeros"
   ]
  },
  {
   "cell_type": "code",
   "execution_count": 232,
   "id": "ca4c357c-656d-47b8-9f6a-436f49713a30",
   "metadata": {},
   "outputs": [
    {
     "data": {
      "text/plain": [
       "array([1., 1., 1., 1., 1., 1., 1., 1., 1., 1.])"
      ]
     },
     "execution_count": 232,
     "metadata": {},
     "output_type": "execute_result"
    }
   ],
   "source": [
    "np.ones(10)"
   ]
  },
  {
   "cell_type": "code",
   "execution_count": 233,
   "id": "51e72408-ce11-4816-bd32-657f60a7dbb7",
   "metadata": {},
   "outputs": [
    {
     "data": {
      "text/plain": [
       "array([0., 0., 0., 0., 0., 0., 0., 0., 0., 0.])"
      ]
     },
     "execution_count": 233,
     "metadata": {},
     "output_type": "execute_result"
    }
   ],
   "source": [
    "np.zeros(10)"
   ]
  },
  {
   "cell_type": "code",
   "execution_count": 237,
   "id": "a4670b77-c9f3-4b02-90d5-b6509bacefac",
   "metadata": {},
   "outputs": [
    {
     "data": {
      "text/plain": [
       "array([0, 1, 2, 3, 4, 5, 6, 7, 8, 9])"
      ]
     },
     "execution_count": 237,
     "metadata": {},
     "output_type": "execute_result"
    }
   ],
   "source": [
    "np.arange(10)[np.ones(10) == 1]"
   ]
  },
  {
   "cell_type": "markdown",
   "id": "8fc2c6d5-fdcb-4bb8-a49c-1bad36830746",
   "metadata": {},
   "source": [
    "### hstack, vstack\n",
    "\n",
    "hstack: Horizontal Stack\n",
    "\n",
    "vstack: Vertical Stack"
   ]
  },
  {
   "cell_type": "code",
   "execution_count": 240,
   "id": "e0d2317a-6ba6-42ac-bb58-0c6b26ef3630",
   "metadata": {},
   "outputs": [],
   "source": [
    "q = np.random.randint(10, size=(5, 5))"
   ]
  },
  {
   "cell_type": "code",
   "execution_count": 241,
   "id": "35c9fd3d-249e-42d4-bf3e-60cef073f6b5",
   "metadata": {},
   "outputs": [],
   "source": [
    "w = np.arange(5)"
   ]
  },
  {
   "cell_type": "code",
   "execution_count": 242,
   "id": "31afb255-35e3-4546-bcf5-63f657ae0ea6",
   "metadata": {},
   "outputs": [
    {
     "data": {
      "text/plain": [
       "array([[0, 6, 7, 5, 3],\n",
       "       [5, 7, 3, 4, 3],\n",
       "       [2, 6, 8, 2, 6],\n",
       "       [6, 8, 3, 3, 4],\n",
       "       [0, 7, 3, 7, 0]])"
      ]
     },
     "execution_count": 242,
     "metadata": {},
     "output_type": "execute_result"
    }
   ],
   "source": [
    "q"
   ]
  },
  {
   "cell_type": "code",
   "execution_count": 243,
   "id": "6fae01cf-2817-4405-af14-2452b3223727",
   "metadata": {},
   "outputs": [
    {
     "data": {
      "text/plain": [
       "array([0, 1, 2, 3, 4])"
      ]
     },
     "execution_count": 243,
     "metadata": {},
     "output_type": "execute_result"
    }
   ],
   "source": [
    "w"
   ]
  },
  {
   "cell_type": "code",
   "execution_count": 245,
   "id": "37fc8612-2a4f-4091-a21e-78ad1094da14",
   "metadata": {},
   "outputs": [
    {
     "data": {
      "text/plain": [
       "array([[0],\n",
       "       [1],\n",
       "       [2],\n",
       "       [3],\n",
       "       [4]])"
      ]
     },
     "execution_count": 245,
     "metadata": {},
     "output_type": "execute_result"
    }
   ],
   "source": [
    "w.reshape(-1, 1)"
   ]
  },
  {
   "cell_type": "code",
   "execution_count": 248,
   "id": "3ed8ae9d-6db7-4c16-911b-1116da81c126",
   "metadata": {},
   "outputs": [
    {
     "data": {
      "text/plain": [
       "array([[0, 6, 7, 5, 3, 0],\n",
       "       [5, 7, 3, 4, 3, 1],\n",
       "       [2, 6, 8, 2, 6, 2],\n",
       "       [6, 8, 3, 3, 4, 3],\n",
       "       [0, 7, 3, 7, 0, 4]])"
      ]
     },
     "execution_count": 248,
     "metadata": {},
     "output_type": "execute_result"
    }
   ],
   "source": [
    "np.hstack([q, w.reshape(-1, 1)])  # WICHTIG: Der Parameter von hstack muss eine Liste sein"
   ]
  },
  {
   "cell_type": "code",
   "execution_count": 252,
   "id": "e938ea54-2179-4b3f-982e-eec89d700e62",
   "metadata": {},
   "outputs": [
    {
     "ename": "TypeError",
     "evalue": "hstack() takes 1 positional argument but 2 were given",
     "output_type": "error",
     "traceback": [
      "\u001b[1;31m---------------------------------------------------------------------------\u001b[0m",
      "\u001b[1;31mTypeError\u001b[0m                                 Traceback (most recent call last)",
      "Cell \u001b[1;32mIn[252], line 1\u001b[0m\n\u001b[1;32m----> 1\u001b[0m \u001b[43mnp\u001b[49m\u001b[38;5;241;43m.\u001b[39;49m\u001b[43mhstack\u001b[49m\u001b[43m(\u001b[49m\u001b[43mq\u001b[49m\u001b[43m,\u001b[49m\u001b[43m \u001b[49m\u001b[43mw\u001b[49m\u001b[38;5;241;43m.\u001b[39;49m\u001b[43mreshape\u001b[49m\u001b[43m(\u001b[49m\u001b[38;5;241;43m-\u001b[39;49m\u001b[38;5;241;43m1\u001b[39;49m\u001b[43m,\u001b[49m\u001b[43m \u001b[49m\u001b[38;5;241;43m1\u001b[39;49m\u001b[43m)\u001b[49m\u001b[43m)\u001b[49m  \u001b[38;5;66;03m# Nicht möglich\u001b[39;00m\n",
      "\u001b[1;31mTypeError\u001b[0m: hstack() takes 1 positional argument but 2 were given"
     ]
    }
   ],
   "source": [
    "np.hstack(q, w.reshape(-1, 1))  # Nicht möglich"
   ]
  },
  {
   "cell_type": "code",
   "execution_count": 253,
   "id": "898d6ca1-a37b-44f3-8416-28d58081dbdb",
   "metadata": {},
   "outputs": [
    {
     "data": {
      "text/plain": [
       "array([[0, 6, 7, 5, 3],\n",
       "       [5, 7, 3, 4, 3],\n",
       "       [2, 6, 8, 2, 6],\n",
       "       [6, 8, 3, 3, 4],\n",
       "       [0, 7, 3, 7, 0],\n",
       "       [0, 1, 2, 3, 4]])"
      ]
     },
     "execution_count": 253,
     "metadata": {},
     "output_type": "execute_result"
    }
   ],
   "source": [
    "np.vstack([q, w])  # w hat bereits die richtige Dimension"
   ]
  },
  {
   "cell_type": "code",
   "execution_count": null,
   "id": "bdc0001f-4d06-420d-bd6a-127f8ffadc4d",
   "metadata": {},
   "outputs": [],
   "source": []
  }
 ],
 "metadata": {
  "kernelspec": {
   "display_name": "Python 3 (ipykernel)",
   "language": "python",
   "name": "python3"
  },
  "language_info": {
   "codemirror_mode": {
    "name": "ipython",
    "version": 3
   },
   "file_extension": ".py",
   "mimetype": "text/x-python",
   "name": "python",
   "nbconvert_exporter": "python",
   "pygments_lexer": "ipython3",
   "version": "3.12.3"
  }
 },
 "nbformat": 4,
 "nbformat_minor": 5
}
