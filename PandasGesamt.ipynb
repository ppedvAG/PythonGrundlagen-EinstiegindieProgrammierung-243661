{
 "cells": [
  {
   "cell_type": "markdown",
   "id": "06d4c638-82dd-4f4f-9475-9cd0bcc5eb58",
   "metadata": {},
   "source": [
    "# Pandas gesamt"
   ]
  },
  {
   "cell_type": "code",
   "execution_count": 2,
   "id": "9dfce7de-d50d-4820-b386-2108f9f0d5ba",
   "metadata": {},
   "outputs": [],
   "source": [
    "import pandas as pd\n",
    "import numpy as np"
   ]
  },
  {
   "cell_type": "code",
   "execution_count": 27,
   "id": "d9718c44-092a-48ab-94bf-2211841f3351",
   "metadata": {},
   "outputs": [],
   "source": [
    "data = pd.read_csv(\"Data/PopulationData.csv\", delimiter=\";\", decimal=\".\", thousands=\",\")"
   ]
  },
  {
   "cell_type": "code",
   "execution_count": 28,
   "id": "ab41cf2f-f316-4c8f-a587-d4b91dd0fbb6",
   "metadata": {},
   "outputs": [],
   "source": [
    "data.drop(columns=[\"#\"], inplace=True)"
   ]
  },
  {
   "cell_type": "code",
   "execution_count": 29,
   "id": "25dbb46e-6cc0-40c5-8ed0-74374137d29d",
   "metadata": {},
   "outputs": [],
   "source": [
    "data.rename(columns={\n",
    "    \"Country (or dependency)\": \"Country\",\n",
    "    \"Population(2020)\": \"Pop\",\n",
    "    \"Density(P/Km²)\": \"Density\",\n",
    "    \"Land Area(Km²)\": \"LandArea\",\n",
    "    \"Migrants(net)\": \"Migrants\",\n",
    "    \"UrbanPop %\": \"UrbanPop\"\n",
    "}, inplace=True)"
   ]
  },
  {
   "cell_type": "code",
   "execution_count": 30,
   "id": "13804a1e-280e-4c39-b077-5dd663bb9a2c",
   "metadata": {},
   "outputs": [],
   "source": [
    "data.set_index(\"Country\", inplace=True)"
   ]
  },
  {
   "cell_type": "code",
   "execution_count": 41,
   "id": "7bd935fb-3db0-464a-b648-ade0b4ce5dfd",
   "metadata": {},
   "outputs": [],
   "source": [
    "def fixNaN(columnName: str):\n",
    "    isnull = data[data[columnName].isnull()]\n",
    "    index = isnull.index\n",
    "    data.loc[index, columnName] = 0"
   ]
  },
  {
   "cell_type": "code",
   "execution_count": 42,
   "id": "43a0e8f3-0331-4bf3-a9b6-943cd4415272",
   "metadata": {},
   "outputs": [],
   "source": [
    "def fixNA(columnName: str):\n",
    "    na = data[data[columnName] == \"N.A.\"]  # Suche die N.A. Werte in der gegebenen Spalte\n",
    "    index = na.index  # Entnehme alle Zeilennamen (Index) der gefundenen fehlerhaften Werte\n",
    "    data.loc[index, columnName] = 0"
   ]
  },
  {
   "cell_type": "code",
   "execution_count": 38,
   "id": "012119d1-5fd0-49ff-a5ea-5c0680eb9535",
   "metadata": {},
   "outputs": [],
   "source": [
    "def fixPct(columnName: str):\n",
    "    data[columnName] = data[columnName].replace(\" %\", \"\", regex=True)"
   ]
  },
  {
   "cell_type": "code",
   "execution_count": 39,
   "id": "9d1a90be-314f-4efc-9868-19a23e7e5336",
   "metadata": {},
   "outputs": [],
   "source": [
    "for col in data.columns:\n",
    "    fixPct(col)\n",
    "    fixNA(col)\n",
    "    fixNaN(col)"
   ]
  },
  {
   "cell_type": "code",
   "execution_count": 44,
   "id": "51bc132e-1b61-4f23-8ee3-5ea37dfb09a2",
   "metadata": {},
   "outputs": [],
   "source": [
    "def fixType(columnName: str, targetType):  # Hier wird ein Parameter benötigt, welcher den Zieltypen definiert (float32, int32, int16, ...)\n",
    "    data[columnName] = data[columnName].astype(targetType)"
   ]
  },
  {
   "cell_type": "code",
   "execution_count": 45,
   "id": "c4c25238-e58c-4fe8-adcf-99cfcd59a4d2",
   "metadata": {},
   "outputs": [],
   "source": [
    "fixType(\"Pop\", np.int32)"
   ]
  },
  {
   "cell_type": "code",
   "execution_count": 46,
   "id": "0558d5f4-9351-452c-a34d-dcbd1ecb3143",
   "metadata": {},
   "outputs": [],
   "source": [
    "fixType(\"NetChange\", np.int32)"
   ]
  },
  {
   "cell_type": "code",
   "execution_count": 47,
   "id": "ccb24eb3-c239-4ea5-8945-582acb635be4",
   "metadata": {},
   "outputs": [],
   "source": [
    "fixType(\"Density\", np.int16)"
   ]
  },
  {
   "cell_type": "code",
   "execution_count": 48,
   "id": "74d0b08f-0ce0-46bc-9331-4bef46bc6836",
   "metadata": {},
   "outputs": [],
   "source": [
    "fixType(\"LandArea\", np.int32)"
   ]
  },
  {
   "cell_type": "code",
   "execution_count": 49,
   "id": "e9068ab2-8a34-44e2-ba29-97438b3fff13",
   "metadata": {},
   "outputs": [],
   "source": [
    "fixType(\"Migrants\", np.int32)"
   ]
  },
  {
   "cell_type": "code",
   "execution_count": 50,
   "id": "24376c5e-7fa9-4a6b-96db-6444d076bd61",
   "metadata": {},
   "outputs": [],
   "source": [
    "fixType(\"Fert.Rate\", np.float32)"
   ]
  },
  {
   "cell_type": "code",
   "execution_count": 51,
   "id": "8b1a893a-ea1b-4f01-9c40-e4c4879c856e",
   "metadata": {},
   "outputs": [],
   "source": [
    "fixType(\"Med.Age\", np.int8)"
   ]
  },
  {
   "cell_type": "code",
   "execution_count": 52,
   "id": "fd332fa5-7a28-4200-93d8-c5fd2ebb2120",
   "metadata": {},
   "outputs": [],
   "source": [
    "fixType(\"UrbanPop\", np.int8)"
   ]
  },
  {
   "cell_type": "code",
   "execution_count": 53,
   "id": "9cba22a6-02c2-4e9f-b4b6-4354682e644b",
   "metadata": {},
   "outputs": [],
   "source": [
    "fixType(\"WorldShare\", np.float32)"
   ]
  },
  {
   "cell_type": "code",
   "execution_count": 55,
   "id": "a78c6f5f-5318-44da-bcb3-4c589abe1470",
   "metadata": {},
   "outputs": [],
   "source": [
    "data.to_csv(\"Data/PandasGesamt.csv\")"
   ]
  }
 ],
 "metadata": {
  "kernelspec": {
   "display_name": "Python 3 (ipykernel)",
   "language": "python",
   "name": "python3"
  },
  "language_info": {
   "codemirror_mode": {
    "name": "ipython",
    "version": 3
   },
   "file_extension": ".py",
   "mimetype": "text/x-python",
   "name": "python",
   "nbconvert_exporter": "python",
   "pygments_lexer": "ipython3",
   "version": "3.12.3"
  }
 },
 "nbformat": 4,
 "nbformat_minor": 5
}
